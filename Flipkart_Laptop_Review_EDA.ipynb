{
 "cells": [
  {
   "cell_type": "markdown",
   "id": "16b8ca6e",
   "metadata": {},
   "source": [
    "# Flipkart Laptop Reviews – Exploratory Data Analysis"
   ]
  },
  {
   "cell_type": "markdown",
   "id": "327f782d",
   "metadata": {},
   "source": [
    "This project performs an exploratory analysis of customer reviews for laptops listed on Flipkart. The dataset contains like brand, processor, RAM, storage, operating system, ratings, and more.\n",
    "\n",
    "The goal is to identify patterns and meaningful insights from customer feedback. These insights can help in decision-making related to product development, customer satisfaction, or recommendation systems.\n",
    "\n",
    "The steps in this notebook include:\n",
    "- Setting up the environment\n",
    "- Loading and verifying the dataset\n",
    "- Exploring and cleaning the data\n",
    "- Visualizing important trends\n",
    "- Highlighting key patterns affecting laptop reviews\n"
   ]
  },
  {
   "cell_type": "markdown",
   "id": "dab4c6bb",
   "metadata": {},
   "source": [
    "### Step 1 – Environment Setup and File Encoding\n",
    "\n",
    "###### - To run this project in another environment, install the required packages using the `requirements.txt` file with the command: `pip install -r requirements.txt`\n",
    "\n",
    "\n",
    "\n",
    "This project is built using:\n",
    "- Python (via Anaconda)\n",
    "- Jupyter Notebook (opened in VS Code)\n",
    "- UTF-8 encoding is used when loading the CSV file to avoid problems with special characters like emojis or symbols in text data.\n",
    "\n",
    "UTF-8 is the standard character encoding that supports almost every language and symbol. If the wrong encoding is used, the dataset may show corrupted characters (like �).\n",
    "\n",
    "To verify the encoding:\n",
    "- Open the file using a text editor like Notepad++\n",
    "- Check the \"Encoding\" menu to confirm it's set to UTF-8\n",
    "- If needed, re-save the file with UTF-8 encoding\n",
    "\n",
    "In pandas, UTF-8 is set using `encoding='utf-8'` while reading the file.\n"
   ]
  },
  {
   "cell_type": "markdown",
   "id": "65f2eb02",
   "metadata": {},
   "source": [
    "#### Required Libraries\n"
   ]
  },
  {
   "cell_type": "code",
   "execution_count": 1,
   "id": "0ed7490b",
   "metadata": {},
   "outputs": [],
   "source": [
    "# Importing core libraries\n",
    "import pandas as pd\n",
    "import numpy as np\n",
    "import matplotlib.pyplot as plt\n",
    "import seaborn as sns"
   ]
  },
  {
   "cell_type": "code",
   "execution_count": 2,
   "id": "4cc52ddc",
   "metadata": {},
   "outputs": [],
   "source": [
    "# Enable inline plotting\n",
    "%matplotlib inline\n",
    "\n",
    "# Set visual theme\n",
    "sns.set(style=\"whitegrid\")\n",
    "\n",
    "# Set display options for better viewing\n",
    "pd.set_option('display.max_columns', None)\n",
    "pd.set_option('display.max_rows', 100)"
   ]
  },
  {
   "cell_type": "markdown",
   "id": "fb39c173",
   "metadata": {},
   "source": [
    "### Step 2 – Loading the Dataset\n",
    "\n",
    "The dataset file `laptops_dataset_final_600.csv` is read using pandas with UTF-8 encoding. This ensures proper interpretation of all characters, especially in text-based columns like laptop names or reviews.\n"
   ]
  },
  {
   "cell_type": "code",
   "execution_count": 3,
   "id": "e8ea5c2a",
   "metadata": {},
   "outputs": [],
   "source": [
    "# #loading without encoding \n",
    "# df_raw = pd.read_csv('laptops_dataset_final_600.csv')\n",
    "# print(\"Loaded successfully without encoding parameter.\")\n",
    "# display(df_raw.head())"
   ]
  },
  {
   "cell_type": "code",
   "execution_count": 4,
   "id": "6e877830",
   "metadata": {},
   "outputs": [
    {
     "name": "stdout",
     "output_type": "stream",
     "text": [
      "Data loaded successfully using UTF-8 encoding.\n"
     ]
    },
    {
     "data": {
      "application/vnd.microsoft.datawrangler.viewer.v0+json": {
       "columns": [
        {
         "name": "index",
         "rawType": "int64",
         "type": "integer"
        },
        {
         "name": "product_name",
         "rawType": "object",
         "type": "string"
        },
        {
         "name": "overall_rating",
         "rawType": "float64",
         "type": "float"
        },
        {
         "name": "no_ratings",
         "rawType": "object",
         "type": "string"
        },
        {
         "name": "no_reviews",
         "rawType": "object",
         "type": "string"
        },
        {
         "name": "rating",
         "rawType": "int64",
         "type": "integer"
        },
        {
         "name": "title",
         "rawType": "object",
         "type": "string"
        },
        {
         "name": "review",
         "rawType": "object",
         "type": "string"
        }
       ],
       "conversionMethod": "pd.DataFrame",
       "ref": "e626f89d-ee7e-4e07-b8ed-220f289d9610",
       "rows": [
        [
         "0",
         "Apple MacBook AIR Apple M2 - (8 GB/256 GB SSD/Mac OS Monterey)...",
         "4.7",
         "15,210",
         "900",
         "5",
         "Perfect product!",
         "Loved it, it's my first MacBook that I earned from my hardwork 🥺❤️"
        ],
        [
         "1",
         "Apple MacBook AIR Apple M2 - (8 GB/256 GB SSD/Mac OS Monterey)...",
         "4.7",
         "15,210",
         "900",
         "5",
         "Fabulous!",
         "Battery lasted longer than my first relationship (2 days).\nListening to Arijit singh songs on full volume since then still isn't getting over. Has more warmth than her. unlike her there's two way communication here as touchpad is very responsive. fingerprint lock is nice as it only opens up to me. 5 stars for this -1 for her"
        ],
        [
         "2",
         "Apple MacBook AIR Apple M2 - (8 GB/256 GB SSD/Mac OS Monterey)...",
         "4.7",
         "15,210",
         "900",
         "5",
         "Fabulous!",
         "Such a great deal.. very happy with the performance and battery life..Origional product..🥰❤️\nThank you Flipkart..!!!"
        ],
        [
         "3",
         "Apple MacBook AIR Apple M2 - (8 GB/256 GB SSD/Mac OS Monterey)...",
         "4.7",
         "15,210",
         "900",
         "4",
         "Delightful",
         "Awesome build quality and very good display, battery and camera. Still new to macOS"
        ],
        [
         "4",
         "Apple MacBook AIR Apple M2 - (8 GB/256 GB SSD/Mac OS Monterey)...",
         "4.7",
         "15,210",
         "900",
         "5",
         "Awesome",
         "When i ordered and came to know about seller review,i was scared that in what condition i will get macbook. but i was wrong.\n\nThis is my first macbook and i am fully satisfied with the product with original packaging of apple and got genuine product.\n\nIt's very thin and light and looks very premium.\n\nAs A software developer, i installed intellij idea ide and guess what.\nIt's magic,it is opening just in a click and within 5 seconds.\nGreat performance, no heating issue, sound quality awesome an...\nREAD MORE"
        ]
       ],
       "shape": {
        "columns": 7,
        "rows": 5
       }
      },
      "text/html": [
       "<div>\n",
       "<style scoped>\n",
       "    .dataframe tbody tr th:only-of-type {\n",
       "        vertical-align: middle;\n",
       "    }\n",
       "\n",
       "    .dataframe tbody tr th {\n",
       "        vertical-align: top;\n",
       "    }\n",
       "\n",
       "    .dataframe thead th {\n",
       "        text-align: right;\n",
       "    }\n",
       "</style>\n",
       "<table border=\"1\" class=\"dataframe\">\n",
       "  <thead>\n",
       "    <tr style=\"text-align: right;\">\n",
       "      <th></th>\n",
       "      <th>product_name</th>\n",
       "      <th>overall_rating</th>\n",
       "      <th>no_ratings</th>\n",
       "      <th>no_reviews</th>\n",
       "      <th>rating</th>\n",
       "      <th>title</th>\n",
       "      <th>review</th>\n",
       "    </tr>\n",
       "  </thead>\n",
       "  <tbody>\n",
       "    <tr>\n",
       "      <th>0</th>\n",
       "      <td>Apple MacBook AIR Apple M2 - (8 GB/256 GB SSD/...</td>\n",
       "      <td>4.7</td>\n",
       "      <td>15,210</td>\n",
       "      <td>900</td>\n",
       "      <td>5</td>\n",
       "      <td>Perfect product!</td>\n",
       "      <td>Loved it, it's my first MacBook that I earned ...</td>\n",
       "    </tr>\n",
       "    <tr>\n",
       "      <th>1</th>\n",
       "      <td>Apple MacBook AIR Apple M2 - (8 GB/256 GB SSD/...</td>\n",
       "      <td>4.7</td>\n",
       "      <td>15,210</td>\n",
       "      <td>900</td>\n",
       "      <td>5</td>\n",
       "      <td>Fabulous!</td>\n",
       "      <td>Battery lasted longer than my first relationsh...</td>\n",
       "    </tr>\n",
       "    <tr>\n",
       "      <th>2</th>\n",
       "      <td>Apple MacBook AIR Apple M2 - (8 GB/256 GB SSD/...</td>\n",
       "      <td>4.7</td>\n",
       "      <td>15,210</td>\n",
       "      <td>900</td>\n",
       "      <td>5</td>\n",
       "      <td>Fabulous!</td>\n",
       "      <td>Such a great deal.. very happy with the perfor...</td>\n",
       "    </tr>\n",
       "    <tr>\n",
       "      <th>3</th>\n",
       "      <td>Apple MacBook AIR Apple M2 - (8 GB/256 GB SSD/...</td>\n",
       "      <td>4.7</td>\n",
       "      <td>15,210</td>\n",
       "      <td>900</td>\n",
       "      <td>4</td>\n",
       "      <td>Delightful</td>\n",
       "      <td>Awesome build quality and very good display, b...</td>\n",
       "    </tr>\n",
       "    <tr>\n",
       "      <th>4</th>\n",
       "      <td>Apple MacBook AIR Apple M2 - (8 GB/256 GB SSD/...</td>\n",
       "      <td>4.7</td>\n",
       "      <td>15,210</td>\n",
       "      <td>900</td>\n",
       "      <td>5</td>\n",
       "      <td>Awesome</td>\n",
       "      <td>When i ordered and came to know about seller r...</td>\n",
       "    </tr>\n",
       "  </tbody>\n",
       "</table>\n",
       "</div>"
      ],
      "text/plain": [
       "                                        product_name  overall_rating  \\\n",
       "0  Apple MacBook AIR Apple M2 - (8 GB/256 GB SSD/...             4.7   \n",
       "1  Apple MacBook AIR Apple M2 - (8 GB/256 GB SSD/...             4.7   \n",
       "2  Apple MacBook AIR Apple M2 - (8 GB/256 GB SSD/...             4.7   \n",
       "3  Apple MacBook AIR Apple M2 - (8 GB/256 GB SSD/...             4.7   \n",
       "4  Apple MacBook AIR Apple M2 - (8 GB/256 GB SSD/...             4.7   \n",
       "\n",
       "  no_ratings no_reviews  rating             title  \\\n",
       "0     15,210        900       5  Perfect product!   \n",
       "1     15,210        900       5         Fabulous!   \n",
       "2     15,210        900       5         Fabulous!   \n",
       "3     15,210        900       4        Delightful   \n",
       "4     15,210        900       5           Awesome   \n",
       "\n",
       "                                              review  \n",
       "0  Loved it, it's my first MacBook that I earned ...  \n",
       "1  Battery lasted longer than my first relationsh...  \n",
       "2  Such a great deal.. very happy with the perfor...  \n",
       "3  Awesome build quality and very good display, b...  \n",
       "4  When i ordered and came to know about seller r...  "
      ]
     },
     "execution_count": 4,
     "metadata": {},
     "output_type": "execute_result"
    }
   ],
   "source": [
    "# Recommended way — read with UTF-8 encoding\n",
    "df = pd.read_csv('laptops_dataset_final_600.csv', encoding='utf-8')\n",
    "print(\"Data loaded successfully using UTF-8 encoding.\")\n",
    "\n",
    "# Show the first few records\n",
    "df.head()\n"
   ]
  },
  {
   "cell_type": "code",
   "execution_count": 5,
   "id": "1436c42a",
   "metadata": {},
   "outputs": [
    {
     "name": "stdout",
     "output_type": "stream",
     "text": [
      "Last 5 rows: \n"
     ]
    },
    {
     "data": {
      "application/vnd.microsoft.datawrangler.viewer.v0+json": {
       "columns": [
        {
         "name": "index",
         "rawType": "int64",
         "type": "integer"
        },
        {
         "name": "product_name",
         "rawType": "object",
         "type": "string"
        },
        {
         "name": "overall_rating",
         "rawType": "float64",
         "type": "float"
        },
        {
         "name": "no_ratings",
         "rawType": "object",
         "type": "string"
        },
        {
         "name": "no_reviews",
         "rawType": "object",
         "type": "string"
        },
        {
         "name": "rating",
         "rawType": "int64",
         "type": "integer"
        },
        {
         "name": "title",
         "rawType": "object",
         "type": "string"
        },
        {
         "name": "review",
         "rawType": "object",
         "type": "string"
        }
       ],
       "conversionMethod": "pd.DataFrame",
       "ref": "56ce7b32-4b57-4291-8c54-b4c24762a422",
       "rows": [
        [
         "24108",
         "MSI Modern 14 Intel Core i5 13th Gen 1335U - (8 GB/512 GB SSD/...",
         "4.3",
         "156",
         "24",
         "5",
         "Perfect product!",
         "MSI Laptop is high performance and the best. configuration is better than HP,Dell .\nValue for money laptop\n\nCon\nBattery backup is up to 5 hours"
        ],
        [
         "24109",
         "MSI Modern 14 Intel Core i5 13th Gen 1335U - (8 GB/512 GB SSD/...",
         "4.3",
         "156",
         "24",
         "5",
         "Perfect product!",
         "Excellent performance best laptop."
        ],
        [
         "24110",
         "MSI Modern 14 Intel Core i5 13th Gen 1335U - (8 GB/512 GB SSD/...",
         "4.3",
         "156",
         "24",
         "4",
         "Good product, Lacks features.",
         "Decent battery life. Exceptional build quality. Lacks features like USB-C charger, privacy shutter for camera, fingerprint reader, MS Office."
        ],
        [
         "24111",
         "Lenovo IdeaPad 5 2-in-1 WUXGA IPS AMD Ryzen 7 Octa Core 8845HS...",
         "4.4",
         "7",
         "2",
         "3",
         "Nice",
         "The product does not support facial recognition as it does not have an IR sensor"
        ],
        [
         "24112",
         "Lenovo IdeaPad 5 2-in-1 WUXGA IPS AMD Ryzen 7 Octa Core 8845HS...",
         "4.4",
         "7",
         "2",
         "4",
         "Very Good",
         "DISPLAY IS A LET DOWN. But the lenovo Pen works like a CHARM. I haven't yet tested it with powerful apps but i believe AMD Ryzen 7 can handle it. This is the CHEAPEST LAPTOP with AMD 8845H I guess"
        ]
       ],
       "shape": {
        "columns": 7,
        "rows": 5
       }
      },
      "text/html": [
       "<div>\n",
       "<style scoped>\n",
       "    .dataframe tbody tr th:only-of-type {\n",
       "        vertical-align: middle;\n",
       "    }\n",
       "\n",
       "    .dataframe tbody tr th {\n",
       "        vertical-align: top;\n",
       "    }\n",
       "\n",
       "    .dataframe thead th {\n",
       "        text-align: right;\n",
       "    }\n",
       "</style>\n",
       "<table border=\"1\" class=\"dataframe\">\n",
       "  <thead>\n",
       "    <tr style=\"text-align: right;\">\n",
       "      <th></th>\n",
       "      <th>product_name</th>\n",
       "      <th>overall_rating</th>\n",
       "      <th>no_ratings</th>\n",
       "      <th>no_reviews</th>\n",
       "      <th>rating</th>\n",
       "      <th>title</th>\n",
       "      <th>review</th>\n",
       "    </tr>\n",
       "  </thead>\n",
       "  <tbody>\n",
       "    <tr>\n",
       "      <th>24108</th>\n",
       "      <td>MSI Modern 14 Intel Core i5 13th Gen 1335U - (...</td>\n",
       "      <td>4.3</td>\n",
       "      <td>156</td>\n",
       "      <td>24</td>\n",
       "      <td>5</td>\n",
       "      <td>Perfect product!</td>\n",
       "      <td>MSI Laptop is high performance and the best. c...</td>\n",
       "    </tr>\n",
       "    <tr>\n",
       "      <th>24109</th>\n",
       "      <td>MSI Modern 14 Intel Core i5 13th Gen 1335U - (...</td>\n",
       "      <td>4.3</td>\n",
       "      <td>156</td>\n",
       "      <td>24</td>\n",
       "      <td>5</td>\n",
       "      <td>Perfect product!</td>\n",
       "      <td>Excellent performance best laptop.</td>\n",
       "    </tr>\n",
       "    <tr>\n",
       "      <th>24110</th>\n",
       "      <td>MSI Modern 14 Intel Core i5 13th Gen 1335U - (...</td>\n",
       "      <td>4.3</td>\n",
       "      <td>156</td>\n",
       "      <td>24</td>\n",
       "      <td>4</td>\n",
       "      <td>Good product, Lacks features.</td>\n",
       "      <td>Decent battery life. Exceptional build quality...</td>\n",
       "    </tr>\n",
       "    <tr>\n",
       "      <th>24111</th>\n",
       "      <td>Lenovo IdeaPad 5 2-in-1 WUXGA IPS AMD Ryzen 7 ...</td>\n",
       "      <td>4.4</td>\n",
       "      <td>7</td>\n",
       "      <td>2</td>\n",
       "      <td>3</td>\n",
       "      <td>Nice</td>\n",
       "      <td>The product does not support facial recognitio...</td>\n",
       "    </tr>\n",
       "    <tr>\n",
       "      <th>24112</th>\n",
       "      <td>Lenovo IdeaPad 5 2-in-1 WUXGA IPS AMD Ryzen 7 ...</td>\n",
       "      <td>4.4</td>\n",
       "      <td>7</td>\n",
       "      <td>2</td>\n",
       "      <td>4</td>\n",
       "      <td>Very Good</td>\n",
       "      <td>DISPLAY IS A LET DOWN. But the lenovo Pen work...</td>\n",
       "    </tr>\n",
       "  </tbody>\n",
       "</table>\n",
       "</div>"
      ],
      "text/plain": [
       "                                            product_name  overall_rating  \\\n",
       "24108  MSI Modern 14 Intel Core i5 13th Gen 1335U - (...             4.3   \n",
       "24109  MSI Modern 14 Intel Core i5 13th Gen 1335U - (...             4.3   \n",
       "24110  MSI Modern 14 Intel Core i5 13th Gen 1335U - (...             4.3   \n",
       "24111  Lenovo IdeaPad 5 2-in-1 WUXGA IPS AMD Ryzen 7 ...             4.4   \n",
       "24112  Lenovo IdeaPad 5 2-in-1 WUXGA IPS AMD Ryzen 7 ...             4.4   \n",
       "\n",
       "      no_ratings no_reviews  rating                          title  \\\n",
       "24108        156         24       5               Perfect product!   \n",
       "24109        156         24       5               Perfect product!   \n",
       "24110        156         24       4  Good product, Lacks features.   \n",
       "24111          7          2       3                           Nice   \n",
       "24112          7          2       4                      Very Good   \n",
       "\n",
       "                                                  review  \n",
       "24108  MSI Laptop is high performance and the best. c...  \n",
       "24109                 Excellent performance best laptop.  \n",
       "24110  Decent battery life. Exceptional build quality...  \n",
       "24111  The product does not support facial recognitio...  \n",
       "24112  DISPLAY IS A LET DOWN. But the lenovo Pen work...  "
      ]
     },
     "execution_count": 5,
     "metadata": {},
     "output_type": "execute_result"
    }
   ],
   "source": [
    "# Last few records\n",
    "print(\"Last 5 rows: \")\n",
    "df.tail()\n"
   ]
  },
  {
   "cell_type": "markdown",
   "id": "9e9e0e93",
   "metadata": {},
   "source": [
    "### Step 3 – Dataset Overview and Structure\n",
    "\n",
    "The next step involves checking:\n",
    "- Number of rows and columns\n",
    "- Names and data types of all columns\n",
    "- First and last few records\n",
    "- Missing and duplicate data\n",
    "- Unique values in important columns\n"
   ]
  },
  {
   "cell_type": "code",
   "execution_count": 6,
   "id": "6717cb52",
   "metadata": {},
   "outputs": [
    {
     "name": "stdout",
     "output_type": "stream",
     "text": [
      "Shape of the DataFrame: (24113, 7)\n"
     ]
    }
   ],
   "source": [
    "# Show shape\n",
    "print(f\"Shape of the DataFrame: {df.shape}\")"
   ]
  },
  {
   "cell_type": "code",
   "execution_count": 7,
   "id": "4808518a",
   "metadata": {},
   "outputs": [
    {
     "name": "stdout",
     "output_type": "stream",
     "text": [
      "Column names: ['product_name', 'overall_rating', 'no_ratings', 'no_reviews', 'rating', 'title', 'review']\n"
     ]
    }
   ],
   "source": [
    "# Show all column names\n",
    "print(f\"Column names: {df.columns.tolist()}\")"
   ]
  },
  {
   "cell_type": "code",
   "execution_count": 8,
   "id": "5a41de24",
   "metadata": {},
   "outputs": [
    {
     "name": "stdout",
     "output_type": "stream",
     "text": [
      "Data types: \n",
      "product_name       object\n",
      "overall_rating    float64\n",
      "no_ratings         object\n",
      "no_reviews         object\n",
      "rating              int64\n",
      "title              object\n",
      "review             object\n",
      "dtype: object\n"
     ]
    }
   ],
   "source": [
    "# Data types of each column\n",
    "print(\"Data types: \")\n",
    "print(df.dtypes)"
   ]
  },
  {
   "cell_type": "code",
   "execution_count": 9,
   "id": "326e5fdd",
   "metadata": {},
   "outputs": [
    {
     "name": "stdout",
     "output_type": "stream",
     "text": [
      "Missing values in each column:\n",
      "product_name      0\n",
      "overall_rating    0\n",
      "no_ratings        0\n",
      "no_reviews        0\n",
      "rating            0\n",
      "title             0\n",
      "review            0\n",
      "dtype: int64\n"
     ]
    }
   ],
   "source": [
    "print(\"Missing values in each column:\")\n",
    "print(df.isnull().sum())"
   ]
  },
  {
   "cell_type": "code",
   "execution_count": 10,
   "id": "24ba65ce",
   "metadata": {},
   "outputs": [
    {
     "name": "stdout",
     "output_type": "stream",
     "text": [
      "Number of duplicate rows: 7122\n"
     ]
    }
   ],
   "source": [
    "# Duplicate rows\n",
    "print(f\"Number of duplicate rows: {df.duplicated().sum()}\")"
   ]
  },
  {
   "cell_type": "code",
   "execution_count": 11,
   "id": "8530080d",
   "metadata": {},
   "outputs": [
    {
     "name": "stdout",
     "output_type": "stream",
     "text": [
      "Loved it, it's my first MacBook that I earned from my hardwork 🥺❤️\n"
     ]
    }
   ],
   "source": [
    "print(df['review'].iloc[0])  # Contains emoji or symbols?"
   ]
  },
  {
   "cell_type": "markdown",
   "id": "0b062a64",
   "metadata": {},
   "source": [
    "- Encoding Display Test: The dataset was read using UTF-8 encoding. Special characters and emojis in the review text (such as 🥺❤️) are displayed correctly, confirming that no encoding issues are present.\n"
   ]
  },
  {
   "cell_type": "markdown",
   "id": "d0c4d670",
   "metadata": {},
   "source": [
    "### Step 4 – Understanding Key Columns\n",
    "\n",
    "This dataset contains customer review information for various laptops listed on Flipkart. Below is a quick description of the available columns:\n",
    "\n",
    "- `product_name`: The name and model of the laptop.\n",
    "- `overall_rating`: The average rating given by all users for that product.\n",
    "- `no_ratings`: Total number of users who rated the product.\n",
    "- `no_reviews`: Total number of written reviews.\n",
    "- `rating`: Rating given in this specific review (e.g., 1 to 5 stars).\n",
    "- `title`: Title/summary of the review.\n",
    "- `review`: Full content of the review.\n",
    "\n",
    "These columns focus on customer feedback rather than hardware specifications. As such, analysis will focus on trends in ratings, review counts, and review content.\n"
   ]
  },
  {
   "cell_type": "code",
   "execution_count": 12,
   "id": "5450dcca",
   "metadata": {},
   "outputs": [
    {
     "name": "stdout",
     "output_type": "stream",
     "text": [
      "Number of unique laptop models: 365\n"
     ]
    }
   ],
   "source": [
    "# Number of unique products\n",
    "print(\"Number of unique laptop models:\", df['product_name'].nunique())"
   ]
  },
  {
   "cell_type": "code",
   "execution_count": 13,
   "id": "dc1fa271",
   "metadata": {},
   "outputs": [
    {
     "name": "stdout",
     "output_type": "stream",
     "text": [
      "Sample product names:\n",
      "['Apple MacBook AIR Apple M2 - (8 GB/256 GB SSD/Mac OS Monterey)...'\n",
      " 'HP Backlit Intel Core i5 12th Gen 1235U - (8 GB/512 GB SSD/Win...'\n",
      " 'DELL Inspiron 3520 Intel Core i3 12th Gen 1215U - (8 GB/512 GB...'\n",
      " 'Lenovo Chromebook MediaTek Kompanio 520 - (4 GB/128 GB EMMC St...'\n",
      " 'SAMSUNG Galaxy Book4 Metal Intel Core i3 13th Gen 1315U - (8 G...']\n"
     ]
    }
   ],
   "source": [
    "# 1st five Sample product names\n",
    "print(\"Sample product names:\")\n",
    "print(df['product_name'].unique()[:5])"
   ]
  },
  {
   "cell_type": "code",
   "execution_count": 14,
   "id": "7a232d46",
   "metadata": {},
   "outputs": [
    {
     "name": "stdout",
     "output_type": "stream",
     "text": [
      "Rating distribution:\n",
      "rating\n",
      "1     1809\n",
      "2      668\n",
      "3     2035\n",
      "4     5629\n",
      "5    13972\n",
      "Name: count, dtype: int64\n"
     ]
    }
   ],
   "source": [
    "# Distribution of individual review ratings\n",
    "print(\"Rating distribution:\")\n",
    "print(df['rating'].value_counts().sort_index())"
   ]
  },
  {
   "cell_type": "code",
   "execution_count": 15,
   "id": "a9ec4c75",
   "metadata": {},
   "outputs": [
    {
     "name": "stdout",
     "output_type": "stream",
     "text": [
      "Unique average (overall) ratings:\n",
      "[4.7 4.2 3.7 4.5 4.1 4.3 4.  3.9 4.4 4.6 4.8 3.6 3.8 3.5 3.3 5. ]\n"
     ]
    }
   ],
   "source": [
    "# Unique overall ratings\n",
    "print(\"Unique average (overall) ratings:\")\n",
    "print(df['overall_rating'].unique())"
   ]
  },
  {
   "cell_type": "code",
   "execution_count": 16,
   "id": "eb20efd9",
   "metadata": {},
   "outputs": [
    {
     "name": "stdout",
     "output_type": "stream",
     "text": [
      "Sample review titles:\n",
      "['Perfect product!' 'Fabulous!' 'Delightful' 'Awesome' 'Super!'\n",
      " 'Mind-blowing purchase' 'Just wow!' 'Brilliant' 'Terrific'\n",
      " 'Highly recommended']\n"
     ]
    }
   ],
   "source": [
    "# 1st ten Sample review titles\n",
    "print(\"Sample review titles:\")\n",
    "print(df['title'].unique()[:10])"
   ]
  },
  {
   "cell_type": "code",
   "execution_count": 17,
   "id": "0487e6ae",
   "metadata": {},
   "outputs": [
    {
     "name": "stdout",
     "output_type": "stream",
     "text": [
      "Sample full reviews:\n",
      "[\"Loved it, it's my first MacBook that I earned from my hardwork 🥺❤️\"\n",
      " \"Battery lasted longer than my first relationship (2 days).\\nListening to Arijit singh songs on full volume since then still isn't getting over. Has more warmth than her. unlike her there's two way communication here as touchpad is very responsive. fingerprint lock is nice as it only opens up to me. 5 stars for this -1 for her\"\n",
      " 'Such a great deal.. very happy with the performance and battery life..Origional product..🥰❤️\\nThank you Flipkart..!!!']\n"
     ]
    }
   ],
   "source": [
    "#1st three Sample review text\n",
    "print(\"Sample full reviews:\")\n",
    "print(df['review'].unique()[:3])"
   ]
  },
  {
   "cell_type": "markdown",
   "id": "b8d94c7e",
   "metadata": {},
   "source": [
    "#### Checking for Whitespace\n",
    "\n",
    "This step checks if any text fields have unnecessary leading or trailing spaces. If any are found, they will be removed to clean the data.\n"
   ]
  },
  {
   "cell_type": "code",
   "execution_count": 18,
   "id": "2a3eb4a2",
   "metadata": {},
   "outputs": [
    {
     "name": "stdout",
     "output_type": "stream",
     "text": [
      "product_name:  0\n",
      "title:  0\n",
      "review:  0\n"
     ]
    }
   ],
   "source": [
    "# Check for leading/trailing whitespace in product_name\n",
    "print(\"product_name: \",df['product_name'].apply(lambda x: x != x.strip()).sum())\n",
    "print(\"title: \",df['title'].apply(lambda x: x != x.strip()).sum())\n",
    "print(\"review: \",df['review'].apply(lambda x: x != x.strip()).sum())"
   ]
  },
  {
   "cell_type": "markdown",
   "id": "bf824c9b",
   "metadata": {},
   "source": [
    "All key text fields (`product_name`, `title`, and `review`) were checked for leading and trailing whitespace. No issues were found, so no cleaning was necessary for this part.\n"
   ]
  },
  {
   "cell_type": "markdown",
   "id": "391661ad",
   "metadata": {},
   "source": [
    "### Step 5 – Data Cleaning\n",
    "\n",
    "To prepare the dataset for accurate analysis, the following actions are performed:\n",
    "- Remove duplicate records\n",
    "- Convert `no_ratings` and `no_reviews` columns to numeric types by removing non-numeric characters like commas and plus signs\n"
   ]
  },
  {
   "cell_type": "code",
   "execution_count": 19,
   "id": "aa7322eb",
   "metadata": {},
   "outputs": [
    {
     "name": "stdout",
     "output_type": "stream",
     "text": [
      "Number of duplicate rows: 7122\n",
      "Shape of the DataFrame:  (24113, 7)\n",
      "Shape of the New DataFrame:  (24113, 7)\n"
     ]
    }
   ],
   "source": [
    "print(f\"Number of duplicate rows: {df.duplicated().sum()}\")\n",
    "print(\"Shape of the DataFrame: \", df.shape)\n",
    "\n",
    "#copying the dataframe to a new dataframe\n",
    "df_cp = df.copy()\n",
    "print(\"Shape of the New DataFrame: \",df_cp.shape)"
   ]
  },
  {
   "cell_type": "code",
   "execution_count": 20,
   "id": "1c2c48ef",
   "metadata": {},
   "outputs": [
    {
     "name": "stdout",
     "output_type": "stream",
     "text": [
      "Shape after removing duplicates: (16991, 7)\n"
     ]
    }
   ],
   "source": [
    "# Remove duplicate rows\n",
    "df_cp.drop_duplicates(inplace=True)\n",
    "\n",
    "# Confirm updated shape\n",
    "print(\"Shape after removing duplicates:\", df_cp.shape)"
   ]
  },
  {
   "cell_type": "markdown",
   "id": "8a2a776c",
   "metadata": {},
   "source": [
    "- Removing Duplicate Rows: The original dataset had 24,113 rows. After checking for duplicates, 7,122 duplicate rows were found and removed. The cleaned dataset now contains 16,991 unique records. A separate copy `df_cp` was created for cleaning to keep the original data intact.\n"
   ]
  },
  {
   "cell_type": "markdown",
   "id": "260e31f7",
   "metadata": {},
   "source": [
    "#### Cleaning Count Columns (`no_ratings` and `no_reviews`)\n",
    "\n",
    "The columns `no_ratings` and `no_reviews` originally contain text characters such as commas and plus signs (e.g., \"1,234+\", \"100+\"). These need to be converted into numeric types to support meaningful analysis.\n"
   ]
  },
  {
   "cell_type": "code",
   "execution_count": 21,
   "id": "6dabaa27",
   "metadata": {},
   "outputs": [
    {
     "data": {
      "text/plain": [
       "product_name       object\n",
       "overall_rating    float64\n",
       "no_ratings         object\n",
       "no_reviews         object\n",
       "rating              int64\n",
       "title              object\n",
       "review             object\n",
       "dtype: object"
      ]
     },
     "execution_count": 21,
     "metadata": {},
     "output_type": "execute_result"
    }
   ],
   "source": [
    "df_cp.dtypes"
   ]
  },
  {
   "cell_type": "code",
   "execution_count": 22,
   "id": "10c6e46d",
   "metadata": {},
   "outputs": [
    {
     "name": "stdout",
     "output_type": "stream",
     "text": [
      "Sample no_ratings values (before): ['15,210' '5,248' '3,899' '660' '1,323']\n",
      "Sample no_reviews values (before): ['900' '272' '279' '42' '177']\n"
     ]
    }
   ],
   "source": [
    "# Preview the format of the values before cleaning\n",
    "print(\"Sample no_ratings values (before):\", df_cp['no_ratings'].unique()[:5])\n",
    "print(\"Sample no_reviews values (before):\", df_cp['no_reviews'].unique()[:5])"
   ]
  },
  {
   "cell_type": "code",
   "execution_count": 23,
   "id": "17c6138f",
   "metadata": {},
   "outputs": [],
   "source": [
    "# function to clean count columns\n",
    "def clean_count_column(col):\n",
    "    return col.str.replace(',', '', regex=False).str.replace('+', '', regex=False).astype(int)\n",
    "\n",
    "# Apply cleaning to both columns in df_cp\n",
    "df_cp['no_ratings'] = clean_count_column(df_cp['no_ratings'])\n",
    "df_cp['no_reviews'] = clean_count_column(df_cp['no_reviews'])\n"
   ]
  },
  {
   "cell_type": "code",
   "execution_count": 24,
   "id": "9f0b2e25",
   "metadata": {},
   "outputs": [
    {
     "name": "stdout",
     "output_type": "stream",
     "text": [
      "Data types after cleaning:\n",
      "no_ratings    int32\n",
      "no_reviews    int32\n",
      "dtype: object\n",
      "\n",
      "Sample cleaned values:\n",
      "   no_ratings  no_reviews\n",
      "0       15210         900\n",
      "1       15210         900\n",
      "2       15210         900\n",
      "3       15210         900\n",
      "4       15210         900\n",
      "Sample no_ratings values (after): [15210  5248  3899   660  1323]\n",
      "Sample no_reviews values (after): [900 272 279  42 177]\n"
     ]
    }
   ],
   "source": [
    "# Check the data types and preview cleaned values\n",
    "print(\"Data types after cleaning:\")\n",
    "print(df_cp[['no_ratings', 'no_reviews']].dtypes)\n",
    "\n",
    "print(\"\\nSample cleaned values:\")\n",
    "print(df_cp[['no_ratings', 'no_reviews']].head())\n",
    "\n",
    "print(\"Sample no_ratings values (after):\", df_cp['no_ratings'].unique()[:5])\n",
    "print(\"Sample no_reviews values (after):\", df_cp['no_reviews'].unique()[:5])\n"
   ]
  },
  {
   "cell_type": "markdown",
   "id": "7388ac0e",
   "metadata": {},
   "source": [
    "### Step 6 – Visual Analysis and Factor Exploration\n",
    "\n",
    "This section explores rating patterns and review behavior using visualizations. The goal is to identify key factors contributing to higher or lower review scores.\n",
    "\n",
    "Charts and summary tables help make sense of trends such as:\n",
    "- Overall distribution of customer satisfaction (ratings)\n",
    "- Which laptops get reviewed the most\n",
    "- Relationship between review count and rating\n",
    "- Length of customer reviews vs. the rating given"
   ]
  },
  {
   "cell_type": "markdown",
   "id": "d1792389",
   "metadata": {},
   "source": [
    "##### Step 6.1 – Distribution of Individual Review Ratings\n",
    "This chart helps understand how customers are rating laptops individually. It shows whether most reviews are positive, negative, or neutral. If most ratings are 4 or 5 stars, it means people are generally satisfied with their purchases."
   ]
  },
  {
   "cell_type": "code",
   "execution_count": 25,
   "id": "2fe7549e",
   "metadata": {},
   "outputs": [
    {
     "name": "stderr",
     "output_type": "stream",
     "text": [
      "C:\\Users\\HP\\AppData\\Local\\Temp\\ipykernel_12100\\2663586158.py:5: FutureWarning: \n",
      "\n",
      "Passing `palette` without assigning `hue` is deprecated and will be removed in v0.14.0. Assign the `x` variable to `hue` and set `legend=False` for the same effect.\n",
      "\n",
      "  sns.countplot(data=df_cp, x='rating', palette='coolwarm')\n"
     ]
    },
    {
     "data": {
      "image/png": "[encoded data removed]",
      "text/plain": [
       "<Figure size 600x400 with 1 Axes>"
      ]
     },
     "metadata": {},
     "output_type": "display_data"
    }
   ],
   "source": [
    "# Set figure size for better display\n",
    "plt.figure(figsize=(6, 4))\n",
    "\n",
    "# Create a bar chart of rating counts\n",
    "sns.countplot(data=df_cp, x='rating', palette='coolwarm')\n",
    "\n",
    "# title and labels\n",
    "plt.title('Distribution of Individual Review Ratings')\n",
    "plt.xlabel('Rating')\n",
    "plt.ylabel('Number of Reviews')\n",
    "\n",
    "# Show the plot\n",
    "plt.show()"
   ]
  },
  {
   "cell_type": "code",
   "execution_count": null,
   "id": "80ce51a7",
   "metadata": {},
   "outputs": [
    {
     "name": "stderr",
     "output_type": "stream",
     "text": [
      "C:\\Users\\HP\\AppData\\Local\\Temp\\ipykernel_12100\\1347066247.py:3: FutureWarning: \n",
      "\n",
      "Passing `palette` without assigning `hue` is deprecated and will be removed in v0.14.0. Assign the `x` variable to `hue` and set `legend=False` for the same effect.\n",
      "\n",
      "  ax = sns.countplot(data=df_cp, x='rating', palette='coolwarm')\n"
     ]
    },
    {
     "data": {
      "image/png": "[encoded data removed]",
      "text/plain": [
       "<Figure size 600x400 with 1 Axes>"
      ]
     },
     "metadata": {},
     "output_type": "display_data"
    }
   ],
   "source": [
    "# Create figure and barplot\n",
    "plt.figure(figsize=(6, 4))\n",
    "ax = sns.countplot(data=df_cp, x='rating', palette='coolwarm')\n",
    "\n",
    "# Title and labels\n",
    "plt.title('Distribution of Individual Review Ratings')\n",
    "plt.xlabel('Rating')\n",
    "plt.ylabel('Number of Reviews')\n",
    "\n",
    "# Calculate and show percentages on top of bars\n",
    "total = len(df_cp)\n",
    "for p in ax.patches:\n",
    "    count = int(p.get_height())\n",
    "    percentage = 100 * count / total\n",
    "    ax.annotate(f'{percentage:.1f}%', (p.get_x() + 0.2, p.get_height() + 200), fontsize=10)\n",
    "\n",
    "# Save the chart to your folder\n",
    "save_path = r\"Visual Analysis\\review_rating_distribution.png\"\n",
    "plt.tight_layout()\n",
    "plt.savefig(save_path, dpi=300)\n",
    "plt.show()"
   ]
  }
 ],
 "metadata": {
  "kernelspec": {
   "display_name": "base",
   "language": "python",
   "name": "python3"
  },
  "language_info": {
   "codemirror_mode": {
    "name": "ipython",
    "version": 3
   },
   "file_extension": ".py",
   "mimetype": "text/x-python",
   "name": "python",
   "nbconvert_exporter": "python",
   "pygments_lexer": "ipython3",
   "version": "3.12.4"
  }
 },
 "nbformat": 4,
 "nbformat_minor": 5
}
